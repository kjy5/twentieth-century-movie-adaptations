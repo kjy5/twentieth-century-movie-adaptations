{
 "cells": [
  {
   "metadata": {},
   "cell_type": "markdown",
   "source": [
    "# 20th Century Book and Their Movie Adaptations\n",
    "Exploration of the popularity of titles around the time of their publication and movie adaptation.\n",
    "\n",
    "By Kenneth Yang"
   ],
   "id": "11d3e59f83bdef15"
  },
  {
   "metadata": {},
   "cell_type": "markdown",
   "source": [
    "# Introduction\n",
    "## What are we looking for?\n",
    "- 📖 How did a title's popularity trend when it was published?\n",
    "- 🎥 How did a title's popularity trend when it was adapted into a movie?\n",
    "- 📈 Did the movie adaptation leave a net increase in popularity of the title?\n",
    "\n",
    "## What is Google Ngram Viewer and why are we using it?\n",
    "- 🔎 [Google Books Ngram Viewer](https://books.google.com/ngrams/)\n",
    "- 📰 20th century: most talk is through books, newspapers, and magazines. Works as a proxy for popularity.\n",
    "- 📊 Makes pretty graphs for us to look at."
   ],
   "id": "d28d3951a07e71d5"
  },
  {
   "metadata": {},
   "cell_type": "markdown",
   "source": [
    "# Data Collection\n",
    "- Define books, their publication dates, and their movie adaptations.\n",
    "- Pull the data from Google Ngram Viewer."
   ],
   "id": "4f90035e9965885d"
  },
  {
   "metadata": {},
   "cell_type": "markdown",
   "source": "## Publication dates of books and their movie adaptations",
   "id": "8856eb622614b16b"
  },
  {
   "metadata": {},
   "cell_type": "code",
   "source": [
    "from collections import namedtuple\n",
    "\n",
    "from debugpy.common.messaging import Response\n",
    "\n",
    "Published = namedtuple(\"Published\", [\"book\", \"movie\"])"
   ],
   "id": "94d5823cb12b9d34",
   "outputs": [],
   "execution_count": null
  },
  {
   "metadata": {},
   "cell_type": "code",
   "source": [
    "books = {\n",
    "    \"Gone with the Wind\": Published(1936, 1939),\n",
    "    \"The Grapes of Wrath\": Published(1939, 1940),\n",
    "    \"The Maltese Falcon\": Published(1930, 1941),\n",
    "    \"To Kill a Mockingbird\": Published(1960, 1962),\n",
    "    \"One Flew Over the Cuckoo's Nest\": Published(1962, 1975),\n",
    "    \"The Godfather\": Published(1969, 1972),\n",
    "    \"A Clockwork Orange\": Published(1962, 1971),\n",
    "}"
   ],
   "id": "f1f78484e449b052",
   "outputs": [],
   "execution_count": null
  },
  {
   "metadata": {},
   "cell_type": "markdown",
   "source": "## Pull data from Google Ngram Viewer",
   "id": "f9f19095694caa54"
  },
  {
   "metadata": {},
   "cell_type": "code",
   "source": [
    "from requests import get\n",
    "def json_url(title: str, start=1900, end=2000):\n",
    "    return f\"https://books.google.com/ngrams/json?content={title.replace(\" \", \"+\")}&year_start={start}&year_end={end}&corpus=en&smoothing=0&case_insensitive=true\""
   ],
   "id": "5a11139de6438f83",
   "outputs": [],
   "execution_count": null
  },
  {
   "metadata": {},
   "cell_type": "code",
   "source": [
    "responses = {}\n",
    "for book in books:\n",
    "    response = get(json_url(book))\n",
    "    response.raise_for_status()\n",
    "    responses[book] = response.json()[0][\"timeseries\"]"
   ],
   "id": "c3e7cb967cf37f13",
   "outputs": [],
   "execution_count": null
  },
  {
   "metadata": {},
   "cell_type": "markdown",
   "source": "# Display the Data",
   "id": "a2a1b589f70ad9d5"
  },
  {
   "metadata": {},
   "cell_type": "code",
   "source": [
    "from IPython.display import IFrame\n",
    "\n",
    "\n",
    "def graph_url(title: str, start=1900, end=2000):\n",
    "    return json_url(title, start, end).replace(\"json\", \"interactive_chart\", 1)"
   ],
   "id": "515978d196b6e1aa",
   "outputs": [],
   "execution_count": null
  },
  {
   "metadata": {},
   "cell_type": "code",
   "source": "IFrame(graph_url(\"Gone with the Wind\"), width=900, height=500) ",
   "id": "583fc79543c67186",
   "outputs": [],
   "execution_count": null
  },
  {
   "metadata": {},
   "cell_type": "code",
   "source": "",
   "id": "dd4f53c2e92ddf49",
   "outputs": [],
   "execution_count": null
  }
 ],
 "metadata": {
  "kernelspec": {
   "display_name": "Python 3",
   "language": "python",
   "name": "python3"
  },
  "language_info": {
   "codemirror_mode": {
    "name": "ipython",
    "version": 2
   },
   "file_extension": ".py",
   "mimetype": "text/x-python",
   "name": "python",
   "nbconvert_exporter": "python",
   "pygments_lexer": "ipython2",
   "version": "2.7.6"
  }
 },
 "nbformat": 4,
 "nbformat_minor": 5
}
